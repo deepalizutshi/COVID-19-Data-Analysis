{
 "cells": [
  {
   "cell_type": "markdown",
   "id": "028e85ee",
   "metadata": {},
   "source": [
    "# Analysis of U.S. COVID-19 Dataset \n",
    "\n",
    "Importing Libraries"
   ]
  },
  {
   "cell_type": "code",
   "execution_count": 1,
   "id": "709043a4",
   "metadata": {},
   "outputs": [],
   "source": [
    "import pandas as pd\n",
    "import numpy as np\n",
    "import math\n",
    "import matplotlib.pyplot as plt\n",
    "import seaborn as sns"
   ]
  },
  {
   "cell_type": "markdown",
   "id": "0c5e5251",
   "metadata": {},
   "source": [
    "# Loading Dataset"
   ]
  },
  {
   "cell_type": "markdown",
   "id": "29004326",
   "metadata": {},
   "source": [
    "Dataset Link: https://www.kaggle.com/brendan45774/covid19-us-marchseptember?select=1-1-21+US+covid19.csv\n",
    "-The dataset contains the number of total/probable/confirmed cases and total/probable/confirmed deaths due to COVID-19 in every U.S. state as well as the region for every state. \n",
    "-Analysis of this dataset can give insights into rate of spread of the disease, mortality rate, case fatality rate,etc."
   ]
  },
  {
   "cell_type": "code",
   "execution_count": 2,
   "id": "7c229fe8",
   "metadata": {},
   "outputs": [],
   "source": [
    "data=pd.read_csv('Covid19.csv', encoding='unicode_escape')\n",
    "data.columns = ['State', 'Total_Cases', 'Confirmed_Cases', 'Probable_Cases', 'Cases_7Days', 'Cases_100000','Deaths','Conf_Deaths','Prob_Deaths','Deaths_7Days','Deaths_100000','Region']"
   ]
  },
  {
   "cell_type": "code",
   "execution_count": 3,
   "id": "950289be",
   "metadata": {},
   "outputs": [
    {
     "data": {
      "text/html": [
       "<div>\n",
       "<style scoped>\n",
       "    .dataframe tbody tr th:only-of-type {\n",
       "        vertical-align: middle;\n",
       "    }\n",
       "\n",
       "    .dataframe tbody tr th {\n",
       "        vertical-align: top;\n",
       "    }\n",
       "\n",
       "    .dataframe thead th {\n",
       "        text-align: right;\n",
       "    }\n",
       "</style>\n",
       "<table border=\"1\" class=\"dataframe\">\n",
       "  <thead>\n",
       "    <tr style=\"text-align: right;\">\n",
       "      <th></th>\n",
       "      <th>State</th>\n",
       "      <th>Total_Cases</th>\n",
       "      <th>Confirmed_Cases</th>\n",
       "      <th>Probable_Cases</th>\n",
       "      <th>Cases_7Days</th>\n",
       "      <th>Cases_100000</th>\n",
       "      <th>Deaths</th>\n",
       "      <th>Conf_Deaths</th>\n",
       "      <th>Prob_Deaths</th>\n",
       "      <th>Deaths_7Days</th>\n",
       "      <th>Deaths_100000</th>\n",
       "      <th>Region</th>\n",
       "    </tr>\n",
       "  </thead>\n",
       "  <tbody>\n",
       "    <tr>\n",
       "      <th>0</th>\n",
       "      <td>Alaska</td>\n",
       "      <td>44966</td>\n",
       "      <td>NaN</td>\n",
       "      <td>NaN</td>\n",
       "      <td>1605</td>\n",
       "      <td>6147</td>\n",
       "      <td>202</td>\n",
       "      <td>NaN</td>\n",
       "      <td>NaN</td>\n",
       "      <td>6</td>\n",
       "      <td>27</td>\n",
       "      <td>West</td>\n",
       "    </tr>\n",
       "    <tr>\n",
       "      <th>1</th>\n",
       "      <td>Alabama</td>\n",
       "      <td>356820</td>\n",
       "      <td>287173.0</td>\n",
       "      <td>69647.0</td>\n",
       "      <td>22251</td>\n",
       "      <td>7277</td>\n",
       "      <td>4774</td>\n",
       "      <td>4174.0</td>\n",
       "      <td>600.0</td>\n",
       "      <td>187</td>\n",
       "      <td>97</td>\n",
       "      <td>South</td>\n",
       "    </tr>\n",
       "    <tr>\n",
       "      <th>2</th>\n",
       "      <td>Arkansas</td>\n",
       "      <td>222430</td>\n",
       "      <td>NaN</td>\n",
       "      <td>NaN</td>\n",
       "      <td>14489</td>\n",
       "      <td>7371</td>\n",
       "      <td>3637</td>\n",
       "      <td>NaN</td>\n",
       "      <td>NaN</td>\n",
       "      <td>261</td>\n",
       "      <td>120</td>\n",
       "      <td>South</td>\n",
       "    </tr>\n",
       "    <tr>\n",
       "      <th>3</th>\n",
       "      <td>American Samoa</td>\n",
       "      <td>3</td>\n",
       "      <td>NaN</td>\n",
       "      <td>NaN</td>\n",
       "      <td>0</td>\n",
       "      <td>5</td>\n",
       "      <td>0</td>\n",
       "      <td>NaN</td>\n",
       "      <td>NaN</td>\n",
       "      <td>0</td>\n",
       "      <td>0</td>\n",
       "      <td>Other</td>\n",
       "    </tr>\n",
       "    <tr>\n",
       "      <th>4</th>\n",
       "      <td>Arizona</td>\n",
       "      <td>512489</td>\n",
       "      <td>488303.0</td>\n",
       "      <td>24186.0</td>\n",
       "      <td>39216</td>\n",
       "      <td>7041</td>\n",
       "      <td>8718</td>\n",
       "      <td>7892.0</td>\n",
       "      <td>826.0</td>\n",
       "      <td>539</td>\n",
       "      <td>119</td>\n",
       "      <td>West</td>\n",
       "    </tr>\n",
       "  </tbody>\n",
       "</table>\n",
       "</div>"
      ],
      "text/plain": [
       "            State  Total_Cases  Confirmed_Cases  Probable_Cases  Cases_7Days  \\\n",
       "0          Alaska        44966              NaN             NaN         1605   \n",
       "1         Alabama       356820         287173.0         69647.0        22251   \n",
       "2        Arkansas       222430              NaN             NaN        14489   \n",
       "3  American Samoa            3              NaN             NaN            0   \n",
       "4         Arizona       512489         488303.0         24186.0        39216   \n",
       "\n",
       "   Cases_100000  Deaths  Conf_Deaths  Prob_Deaths  Deaths_7Days  \\\n",
       "0          6147     202          NaN          NaN             6   \n",
       "1          7277    4774       4174.0        600.0           187   \n",
       "2          7371    3637          NaN          NaN           261   \n",
       "3             5       0          NaN          NaN             0   \n",
       "4          7041    8718       7892.0        826.0           539   \n",
       "\n",
       "   Deaths_100000 Region  \n",
       "0             27   West  \n",
       "1             97  South  \n",
       "2            120  South  \n",
       "3              0  Other  \n",
       "4            119   West  "
      ]
     },
     "execution_count": 3,
     "metadata": {},
     "output_type": "execute_result"
    }
   ],
   "source": [
    "data.head()"
   ]
  },
  {
   "cell_type": "code",
   "execution_count": 4,
   "id": "be3ee1e1",
   "metadata": {},
   "outputs": [
    {
     "data": {
      "text/html": [
       "<div>\n",
       "<style scoped>\n",
       "    .dataframe tbody tr th:only-of-type {\n",
       "        vertical-align: middle;\n",
       "    }\n",
       "\n",
       "    .dataframe tbody tr th {\n",
       "        vertical-align: top;\n",
       "    }\n",
       "\n",
       "    .dataframe thead th {\n",
       "        text-align: right;\n",
       "    }\n",
       "</style>\n",
       "<table border=\"1\" class=\"dataframe\">\n",
       "  <thead>\n",
       "    <tr style=\"text-align: right;\">\n",
       "      <th></th>\n",
       "      <th>State</th>\n",
       "      <th>Total_Cases</th>\n",
       "      <th>Confirmed_Cases</th>\n",
       "      <th>Probable_Cases</th>\n",
       "      <th>Cases_7Days</th>\n",
       "      <th>Cases_100000</th>\n",
       "      <th>Deaths</th>\n",
       "      <th>Conf_Deaths</th>\n",
       "      <th>Prob_Deaths</th>\n",
       "      <th>Deaths_7Days</th>\n",
       "      <th>Deaths_100000</th>\n",
       "      <th>Region</th>\n",
       "    </tr>\n",
       "  </thead>\n",
       "  <tbody>\n",
       "    <tr>\n",
       "      <th>55</th>\n",
       "      <td>Vermont</td>\n",
       "      <td>7276</td>\n",
       "      <td>NaN</td>\n",
       "      <td>NaN</td>\n",
       "      <td>596</td>\n",
       "      <td>1166</td>\n",
       "      <td>134</td>\n",
       "      <td>NaN</td>\n",
       "      <td>NaN</td>\n",
       "      <td>17</td>\n",
       "      <td>21</td>\n",
       "      <td>Northeast</td>\n",
       "    </tr>\n",
       "    <tr>\n",
       "      <th>56</th>\n",
       "      <td>Washington</td>\n",
       "      <td>242330</td>\n",
       "      <td>NaN</td>\n",
       "      <td>NaN</td>\n",
       "      <td>12128</td>\n",
       "      <td>3182</td>\n",
       "      <td>3420</td>\n",
       "      <td>NaN</td>\n",
       "      <td>NaN</td>\n",
       "      <td>258</td>\n",
       "      <td>44</td>\n",
       "      <td>West</td>\n",
       "    </tr>\n",
       "    <tr>\n",
       "      <th>57</th>\n",
       "      <td>Wisconsin</td>\n",
       "      <td>516226</td>\n",
       "      <td>477292.0</td>\n",
       "      <td>38934.0</td>\n",
       "      <td>15783</td>\n",
       "      <td>8866</td>\n",
       "      <td>5192</td>\n",
       "      <td>4818.0</td>\n",
       "      <td>374.0</td>\n",
       "      <td>239</td>\n",
       "      <td>89</td>\n",
       "      <td>Midwest</td>\n",
       "    </tr>\n",
       "    <tr>\n",
       "      <th>58</th>\n",
       "      <td>West Virginia</td>\n",
       "      <td>84225</td>\n",
       "      <td>68394.0</td>\n",
       "      <td>15831.0</td>\n",
       "      <td>8289</td>\n",
       "      <td>4700</td>\n",
       "      <td>1318</td>\n",
       "      <td>NaN</td>\n",
       "      <td>NaN</td>\n",
       "      <td>124</td>\n",
       "      <td>73</td>\n",
       "      <td>South</td>\n",
       "    </tr>\n",
       "    <tr>\n",
       "      <th>59</th>\n",
       "      <td>Wyoming</td>\n",
       "      <td>44133</td>\n",
       "      <td>37798.0</td>\n",
       "      <td>6335.0</td>\n",
       "      <td>1469</td>\n",
       "      <td>7626</td>\n",
       "      <td>405</td>\n",
       "      <td>405.0</td>\n",
       "      <td>0.0</td>\n",
       "      <td>32</td>\n",
       "      <td>69</td>\n",
       "      <td>West</td>\n",
       "    </tr>\n",
       "  </tbody>\n",
       "</table>\n",
       "</div>"
      ],
      "text/plain": [
       "            State  Total_Cases  Confirmed_Cases  Probable_Cases  Cases_7Days  \\\n",
       "55        Vermont         7276              NaN             NaN          596   \n",
       "56     Washington       242330              NaN             NaN        12128   \n",
       "57      Wisconsin       516226         477292.0         38934.0        15783   \n",
       "58  West Virginia        84225          68394.0         15831.0         8289   \n",
       "59        Wyoming        44133          37798.0          6335.0         1469   \n",
       "\n",
       "    Cases_100000  Deaths  Conf_Deaths  Prob_Deaths  Deaths_7Days  \\\n",
       "55          1166     134          NaN          NaN            17   \n",
       "56          3182    3420          NaN          NaN           258   \n",
       "57          8866    5192       4818.0        374.0           239   \n",
       "58          4700    1318          NaN          NaN           124   \n",
       "59          7626     405        405.0          0.0            32   \n",
       "\n",
       "    Deaths_100000     Region  \n",
       "55             21  Northeast  \n",
       "56             44       West  \n",
       "57             89    Midwest  \n",
       "58             73      South  \n",
       "59             69       West  "
      ]
     },
     "execution_count": 4,
     "metadata": {},
     "output_type": "execute_result"
    }
   ],
   "source": [
    "data.tail()"
   ]
  },
  {
   "cell_type": "markdown",
   "id": "7e1a9866",
   "metadata": {},
   "source": [
    "# Calculating median values for columns with missing values and adding them to the data"
   ]
  },
  {
   "cell_type": "markdown",
   "id": "ebb432b9",
   "metadata": {},
   "source": [
    "-The columns for confirmed cases, probable cases,confirmed deaths and probable deaths contained null values which were replaced by the median of the respective columns."
   ]
  },
  {
   "cell_type": "markdown",
   "id": "5abdf7f3",
   "metadata": {},
   "source": [
    "Confirmed Cases"
   ]
  },
  {
   "cell_type": "code",
   "execution_count": 5,
   "id": "030939b6",
   "metadata": {},
   "outputs": [
    {
     "name": "stdout",
     "output_type": "stream",
     "text": [
      "Median Confirmed Cases= 239767\n",
      "Mean Confirmed Cases= 271117\n",
      "Standard Deviation= 223173\n"
     ]
    }
   ],
   "source": [
    "conf_case=[Confirmed_Cases for Confirmed_Cases in data.Confirmed_Cases if not math.isnan(Confirmed_Cases)]\n",
    "conf_case=np.array(conf_case)#numpy array of confirmed cases\n",
    "median_conf_cases=np.median(conf_case)#median of the confirmed cases\n",
    "mean_conf_cases=np.mean(conf_case)#mean of confirmed cases\n",
    "print(\"Median Confirmed Cases=\",int(median_conf_cases))\n",
    "print(\"Mean Confirmed Cases=\",int(mean_conf_cases))\n",
    "print(\"Standard Deviation=\",int(np.std(conf_case)))\n",
    "conf_case=list(data[\"Confirmed_Cases\"].fillna(median_conf_cases))#replacing missing values with the median\n",
    "#print(conf_case)"
   ]
  },
  {
   "cell_type": "markdown",
   "id": "cbdcf419",
   "metadata": {},
   "source": [
    "Probable Cases"
   ]
  },
  {
   "cell_type": "code",
   "execution_count": 6,
   "id": "70f442d8",
   "metadata": {},
   "outputs": [
    {
     "name": "stdout",
     "output_type": "stream",
     "text": [
      "Median Probable Cases= 23451\n",
      "Mean Probable Cases= 29073\n",
      "Standard Deviation= 27861\n"
     ]
    }
   ],
   "source": [
    "prob_case=[Probable_Cases for Probable_Cases in data.Probable_Cases if not math.isnan(Probable_Cases)]\n",
    "prob_case=np.array(prob_case)# numpy array of probable cases\n",
    "median_prob_cases=np.median(prob_case)#median of probable cases\n",
    "mean_prob_cases=np.mean(prob_case)#mean of probable cases\n",
    "print(\"Median Probable Cases=\",int(median_prob_cases))\n",
    "print(\"Mean Probable Cases=\",int(mean_prob_cases))\n",
    "print(\"Standard Deviation=\",int(np.std(prob_case)))\n",
    "prob_case=list(data[\"Probable_Cases\"].fillna(median_prob_cases))#replacing missing values with the median\n",
    "#print(conf_case)"
   ]
  },
  {
   "cell_type": "markdown",
   "id": "645b590d",
   "metadata": {},
   "source": [
    "Confirmed Deaths"
   ]
  },
  {
   "cell_type": "code",
   "execution_count": 7,
   "id": "cdfa2bbc",
   "metadata": {},
   "outputs": [
    {
     "name": "stdout",
     "output_type": "stream",
     "text": [
      "Median Confirmed Deaths= 4818\n",
      "Mean Confirmed Deaths= 5648\n",
      "Standard Deviation= 5046\n"
     ]
    }
   ],
   "source": [
    "conf_deaths=[Conf_Deaths for Conf_Deaths in data.Conf_Deaths if not math.isnan(Conf_Deaths)]\n",
    "conf_deaths=np.array(conf_deaths)#numpy array of confirmed deaths\n",
    "median_conf_deaths=np.median(conf_deaths)#median of confirmed deaths\n",
    "mean_conf_deaths=np.mean(conf_deaths)#mean of confirmed deaths\n",
    "print(\"Median Confirmed Deaths=\",int(median_conf_deaths))\n",
    "print(\"Mean Confirmed Deaths=\",int(mean_conf_deaths))\n",
    "print(\"Standard Deviation=\",int(np.std(conf_deaths)))\n",
    "conf_deaths=list(data[\"Conf_Deaths\"].fillna(median_conf_deaths))#replacing missing values with median\n",
    "#print(conf_deaths)"
   ]
  },
  {
   "cell_type": "markdown",
   "id": "c43521d4",
   "metadata": {},
   "source": [
    "Probable Deaths"
   ]
  },
  {
   "cell_type": "code",
   "execution_count": 8,
   "id": "cf00c9aa",
   "metadata": {},
   "outputs": [
    {
     "name": "stdout",
     "output_type": "stream",
     "text": [
      "Median Probable Deaths= 370\n",
      "Mean Probable Deaths= 611\n",
      "Standard Deviation= 873\n"
     ]
    }
   ],
   "source": [
    "prob_deaths=[Prob_Deaths for Prob_Deaths in data.Prob_Deaths if not math.isnan(Prob_Deaths)]\n",
    "prob_deaths=np.array(prob_deaths)#numpy array of probable deaths\n",
    "median_prob_deaths=np.median(prob_deaths)#median of probable deaths\n",
    "mean_prob_deaths=np.mean(prob_deaths)#mean of probable deaths\n",
    "print(\"Median Probable Deaths=\",int(median_prob_deaths))\n",
    "print(\"Mean Probable Deaths=\",int(mean_prob_deaths))\n",
    "print(\"Standard Deviation=\",int(np.std(prob_deaths)))\n",
    "prob_deaths=list(data[\"Prob_Deaths\"].fillna(median_prob_cases))#replacing missing values with median\n",
    "#print(prob_deaths)"
   ]
  },
  {
   "cell_type": "markdown",
   "id": "decbe7f1",
   "metadata": {},
   "source": [
    "# Calculating deaths in each region"
   ]
  },
  {
   "cell_type": "code",
   "execution_count": 10,
   "id": "ffba624a",
   "metadata": {},
   "outputs": [
    {
     "name": "stdout",
     "output_type": "stream",
     "text": [
      "Total Deaths in Southern States= 117979\n",
      "Mean Deaths in Southern States= 6939\n",
      "\n",
      "\n",
      "Total Deaths in Western States= 53315\n",
      "Mean Deaths in Western States= 4101\n",
      "\n",
      "\n",
      "Total Deaths in Northeastern States= 93478\n",
      "Mean Deaths in Northeastern States= 9347\n",
      "\n",
      "\n",
      "Total Deaths in Midwestern States= 74778\n",
      "Mean Deaths in Midwestern States= 6231\n",
      "\n",
      "\n",
      "Total Deaths in Other States= 1649\n",
      "Mean Deaths in Other States= 206\n",
      "\n",
      "\n",
      "Total Deaths In the Country= 341199\n"
     ]
    }
   ],
   "source": [
    "south=data[data['Region']==\"South\"]#filtering states bases on region \"South\"\n",
    "#print(south)\n",
    "deaths_s=np.array(south.Deaths)#numpy array for all the deaths in the southern states\n",
    "southern_deaths=sum(deaths_s)#total deaths in the southern states\n",
    "mean_s=np.mean(deaths_s)#mean of deaths in southern states\n",
    "print(\"Total Deaths in Southern States=\",southern_deaths)\n",
    "print(\"Mean Deaths in Southern States=\",int(mean_s))\n",
    "print(\"\\n\")\n",
    "\n",
    "west=data[data['Region']==\"West\"]#filtering states based on region \"West\"\n",
    "#print(west)\n",
    "deaths_w=np.array(west.Deaths)#numpy array for all the deaths in the western states\n",
    "western_deaths=sum(deaths_w)#total deaths in western states\n",
    "mean_w=np.mean(deaths_w)#mean of deaths in western states\n",
    "print(\"Total Deaths in Western States=\",western_deaths)\n",
    "print(\"Mean Deaths in Western States=\",int(mean_w))\n",
    "print(\"\\n\")\n",
    "\n",
    "northeast=data[data['Region']==\"Northeast\"]#filtering states based on region \"Northeast\"\n",
    "#print(northeast)\n",
    "deaths_ne=np.array(northeast.Deaths)#numpy array of deaths in northeastern states\n",
    "northeast_deaths=sum(deaths_ne)#stotal deaths in northeast\n",
    "mean_ne=np.mean(deaths_ne)#mean of the deaths in northeastern states\n",
    "print(\"Total Deaths in Northeastern States=\",northeast_deaths)\n",
    "print(\"Mean Deaths in Northeastern States=\",int(mean_ne))\n",
    "print(\"\\n\")\n",
    "\n",
    "midwest=data[data['Region']==\"Midwest\"]#filtering states based on region \"Midwest\"\n",
    "#print(midwest)\n",
    "deaths_mw=np.array(midwest.Deaths)#numpy array of all deaths in the midwestern states\n",
    "midwestern_deaths=sum(deaths_mw)#total deaths in the midwest\n",
    "mean_mw=np.mean(deaths_mw)#mean deaths in the midwest\n",
    "print(\"Total Deaths in Midwestern States=\",midwestern_deaths)\n",
    "print(\"Mean Deaths in Midwestern States=\",int(mean_mw))\n",
    "print(\"\\n\")\n",
    "\n",
    "\n",
    "other=data[data['Region']==\"Other\"]#filtering states based on region \"Other\"\n",
    "#print(other)\n",
    "deaths_o=np.array(other.Deaths)#numpy array of all the deaths\n",
    "other_deaths=sum(deaths_o)#total deaths\n",
    "mean_o=np.mean(deaths_o)#mean deaths\n",
    "print(\"Total Deaths in Other States=\",other_deaths)\n",
    "print(\"Mean Deaths in Other States=\",int(mean_o))\n",
    "print(\"\\n\")\n",
    "\n",
    "deaths=[Deaths for Deaths in data.Deaths if not math.isnan(Deaths)]\n",
    "deaths=np.array(deaths)\n",
    "total_deaths=sum(deaths)#total number of deaths in the entire country\n",
    "print(\"Total Deaths In the Country=\",total_deaths)"
   ]
  },
  {
   "cell_type": "markdown",
   "id": "d8037025",
   "metadata": {},
   "source": [
    "# Plotting pie chart for deaths in each region"
   ]
  },
  {
   "cell_type": "code",
   "execution_count": 11,
   "id": "bbc09d6f",
   "metadata": {},
   "outputs": [
    {
     "name": "stdout",
     "output_type": "stream",
     "text": [
      "Deaths in each region\n"
     ]
    },
    {
     "data": {
      "image/png": "[encoded data removed]",
      "text/plain": [
       "<Figure size 432x288 with 1 Axes>"
      ]
     },
     "metadata": {},
     "output_type": "display_data"
    }
   ],
   "source": [
    "print(\"Deaths in each region\")\n",
    "\n",
    "df_count_pie = pd.DataFrame({'Region'  : ['South', 'West', 'Northeast', 'Midwest', 'Other'], \n",
    "                             'Deaths' : [southern_deaths, western_deaths, northeast_deaths, midwestern_deaths,other_deaths]})\n",
    "df_count_pie.Deaths.groupby(df_count_pie.Region).sum().plot(kind='pie')\n",
    "plt.axis('equal')\n",
    "plt.show()"
   ]
  },
  {
   "cell_type": "markdown",
   "id": "967f5b2e",
   "metadata": {},
   "source": [
    "# Calculating cases in each region"
   ]
  },
  {
   "cell_type": "code",
   "execution_count": 12,
   "id": "cdfb916c",
   "metadata": {},
   "outputs": [
    {
     "name": "stdout",
     "output_type": "stream",
     "text": [
      "Total Cases in Southern States= 7557551\n",
      "\n",
      "\n",
      "Total Cases in Western States= 4382914\n",
      "\n",
      "\n",
      "Total Cases in Northeastern States= 2781893\n",
      "\n",
      "\n",
      "Total Cases in Midwestern States= 4855859\n",
      "\n",
      "\n",
      "Total Cases in Other States= 85759\n"
     ]
    }
   ],
   "source": [
    "csouth=data[data['Region']==\"South\"]#cases in southern states\n",
    "#print(csouth)\n",
    "south_cases=np.array(csouth.Total_Cases)\n",
    "southern_cases=sum(south_cases)#total cases in the south\n",
    "print(\"Total Cases in Southern States=\",southern_cases)\n",
    "print(\"\\n\")\n",
    "\n",
    "\n",
    "cwest=data[data['Region']==\"West\"]#cases in western states\n",
    "#print(west)\n",
    "west_cases=np.array(west.Total_Cases)\n",
    "western_cases=sum(west_cases)#total cases in the west\n",
    "print(\"Total Cases in Western States=\",western_cases)\n",
    "print(\"\\n\")\n",
    "\n",
    "cnortheast=data[data['Region']==\"Northeast\"]#cases in the northeast\n",
    "#print(northeast)\n",
    "ne_cases=np.array(northeast.Total_Cases)\n",
    "northeast_cases=sum(ne_cases)#total cases in the northeast\n",
    "print(\"Total Cases in Northeastern States=\",northeast_cases)\n",
    "print(\"\\n\")\n",
    "\n",
    "cmidwest=data[data['Region']==\"Midwest\"]#cases in the midwest\n",
    "#print(midwest)\n",
    "mw_cases=np.array(midwest.Total_Cases)\n",
    "midwestern_cases=sum(mw_cases)#total cases in the midwest\n",
    "print(\"Total Cases in Midwestern States=\",midwestern_cases)\n",
    "print(\"\\n\")\n",
    "\n",
    "other=data[data['Region']==\"Other\"]#cases in other states\n",
    "#print(other)\n",
    "oth_cases=np.array(other.Total_Cases)\n",
    "other_cases=sum(oth_cases)#total cases in the other states\n",
    "print(\"Total Cases in Other States=\",other_cases)\n",
    "\n"
   ]
  },
  {
   "cell_type": "markdown",
   "id": "1a64d9da",
   "metadata": {},
   "source": [
    "# Plotting bar chart for cases in each region"
   ]
  },
  {
   "cell_type": "code",
   "execution_count": 13,
   "id": "c95783b5",
   "metadata": {},
   "outputs": [
    {
     "name": "stderr",
     "output_type": "stream",
     "text": [
      "/Users/deepali/opt/anaconda3/lib/python3.8/site-packages/seaborn/_decorators.py:36: FutureWarning: Pass the following variables as keyword args: x, y. From version 0.12, the only valid positional argument will be `data`, and passing other arguments without an explicit keyword will result in an error or misinterpretation.\n",
      "  warnings.warn(\n"
     ]
    },
    {
     "data": {
      "text/plain": [
       "[Text(0.5, 0, 'Region'), Text(0, 0.5, 'Total Cases')]"
      ]
     },
     "execution_count": 13,
     "metadata": {},
     "output_type": "execute_result"
    },
    {
     "data": {
      "image/png": "[encoded data removed]",
      "text/plain": [
       "<Figure size 432x288 with 1 Axes>"
      ]
     },
     "metadata": {},
     "output_type": "display_data"
    }
   ],
   "source": [
    "regions = ['South', 'West', 'Northeast','Midwest','Others']\n",
    "cases  = [southern_cases,western_cases,northeast_cases,midwestern_cases,other_cases]\n",
    "\n",
    "sns.set_style('dark')\n",
    "axes = sns.barplot(regions,cases, palette=\"ch:.25\")\n",
    "axes.set_title('Number of Cases by region')\n",
    "axes.set(xlabel='Region', ylabel='Total Cases')\n",
    "\n",
    "\n"
   ]
  },
  {
   "cell_type": "markdown",
   "id": "7a64e369",
   "metadata": {},
   "source": [
    "# Case Fatality Rate "
   ]
  },
  {
   "cell_type": "code",
   "execution_count": 14,
   "id": "49d57909",
   "metadata": {},
   "outputs": [
    {
     "name": "stdout",
     "output_type": "stream",
     "text": [
      "1.561074480344228 1.2164281571575442 3.360229886627559 1.539954104927676 1.9228302568826596\n"
     ]
    }
   ],
   "source": [
    "#case fatality rate=n*100/N; n=total deaths, N=total cases tested positive\n",
    "\n",
    "\n",
    "cfr_south=(southern_deaths*100)/southern_cases\n",
    "cfr_west=(western_deaths*100)/western_cases\n",
    "cfr_ne=(northeast_deaths*100)/northeast_cases\n",
    "cfr_mw=(midwestern_deaths*100)/midwestern_cases\n",
    "cfr_oth=(other_deaths*100)/other_cases\n",
    "\n",
    "print(cfr_south,cfr_west,cfr_ne,cfr_mw,cfr_oth)\n",
    "\n",
    "\n"
   ]
  },
  {
   "cell_type": "markdown",
   "id": "476072d5",
   "metadata": {},
   "source": [
    "# Plotting bar graph for CFR by region"
   ]
  },
  {
   "cell_type": "code",
   "execution_count": 15,
   "id": "4f14589d",
   "metadata": {},
   "outputs": [
    {
     "name": "stderr",
     "output_type": "stream",
     "text": [
      "/Users/deepali/opt/anaconda3/lib/python3.8/site-packages/seaborn/_decorators.py:36: FutureWarning: Pass the following variables as keyword args: x, y. From version 0.12, the only valid positional argument will be `data`, and passing other arguments without an explicit keyword will result in an error or misinterpretation.\n",
      "  warnings.warn(\n"
     ]
    },
    {
     "data": {
      "text/plain": [
       "[Text(0.5, 0, 'Regions'), Text(0, 0.5, 'Case Fatality Rate')]"
      ]
     },
     "execution_count": 15,
     "metadata": {},
     "output_type": "execute_result"
    },
    {
     "data": {
      "image/png": "[encoded data removed]",
      "text/plain": [
       "<Figure size 432x288 with 1 Axes>"
      ]
     },
     "metadata": {},
     "output_type": "display_data"
    }
   ],
   "source": [
    "regions = ['South', 'West', 'Northeast','Midwest','Others']\n",
    "cfr  = [cfr_south,cfr_west,cfr_ne,cfr_mw,cfr_oth]\n",
    "\n",
    "sns.set_style('whitegrid')\n",
    "axes = sns.barplot(regions,cfr, palette=\"pastel\")\n",
    "axes.set_title('Case fatality rate by region')\n",
    "axes.set(xlabel='Regions', ylabel='Case Fatality Rate')"
   ]
  },
  {
   "cell_type": "markdown",
   "id": "aaa73164",
   "metadata": {},
   "source": [
    "# Calculating and plotting quartiles for cases/100000 people in each region"
   ]
  },
  {
   "cell_type": "code",
   "execution_count": null,
   "id": "d17d4571",
   "metadata": {},
   "outputs": [],
   "source": [
    "case_hund_thou=[Cases_100000 for Cases_100000 in data.Cases_100000 if not math.isnan(Cases_100000)]\n",
    "case_hund_thou=np.array(case_hund_thou)#numpy array for cases per 100000 people\n",
    "q1=np.quantile(case_hund_thou, 0.25, axis = None)#calculating q1\n",
    "q2=np.quantile(case_hund_thou, 0.5, axis = None)#calculating q2\n",
    "q3=np.quantile(case_hund_thou, 0.75, axis = None)#calculating q3\n",
    "print(\"25th Percentile of Cases per 100000 people:\",q1)\n",
    "print(\"50th Percentile of Cases per 100000 people:\",q2)\n",
    "print(\"75th Percentile of Cases per 100000 people:\",q3)\n",
    "print(\"Interquartile Rage=\",q3-q1)\n",
    "print(\"\\n\")\n",
    "\n",
    "#Boxplot for cases per 100000 people\n",
    "print(\"Boxplot: Cases per 100000 people \")\n",
    "sns.set_theme(style=\"ticks\")\n",
    "ax = sns.boxplot(x=data[\"Cases_100000\"])\n",
    "plt.show()\n",
    "\n",
    "\n",
    "#cases per 100000 people in every region\n",
    "print(\"\\n\")\n",
    "print('Boxplot: Cases per 100000 people in every region')\n",
    "boxplot = sns.boxplot(y='Cases_100000', x='Region', data=data)"
   ]
  },
  {
   "cell_type": "markdown",
   "id": "fead01de",
   "metadata": {},
   "source": [
    "# Scatterplot for cases vs deaths per 7 days"
   ]
  },
  {
   "cell_type": "code",
   "execution_count": null,
   "id": "0e62907f",
   "metadata": {},
   "outputs": [],
   "source": [
    "#cases vs deaths ebery 7 days all over the country\n",
    "\n",
    "print(\"Scatterplot for Cases/7 Days vs Deaths/7 Days :\")\n",
    "sns.scatterplot(data=data, x=\"Cases_7Days\", y=\"Deaths_7Days\")\n"
   ]
  },
  {
   "cell_type": "markdown",
   "id": "226ffa0c",
   "metadata": {},
   "source": [
    "-Before the analysis, I speculated that the maximum number of cases and deaths would be in the southern states. Although this was true, the midwestern states had the gratest case fatality rate of 3.36.(CFR->a proportion from the number of individuals who having been diagnosed with a disease, that shows how many die from that disease in a given time period)\n",
    "-Additionally, compared to all the other regions, the midwestern states had the greatest number of cases per 100000 people.\n",
    "-The above analysis can help devise strategies for testing, treatment and vaccination of people in different areas in the country.\n",
    "-For this analysis the \"Region\" category was used to compute the total number of cases,deaths, CFR, cases per 100000 people in every area."
   ]
  }
 ],
 "metadata": {
  "kernelspec": {
   "display_name": "Python 3",
   "language": "python",
   "name": "python3"
  },
  "language_info": {
   "codemirror_mode": {
    "name": "ipython",
    "version": 3
   },
   "file_extension": ".py",
   "mimetype": "text/x-python",
   "name": "python",
   "nbconvert_exporter": "python",
   "pygments_lexer": "ipython3",
   "version": "3.8.8"
  }
 },
 "nbformat": 4,
 "nbformat_minor": 5
}
